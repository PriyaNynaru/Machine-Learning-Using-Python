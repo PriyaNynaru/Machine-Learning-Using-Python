{
 "cells": [
  {
   "cell_type": "markdown",
   "metadata": {},
   "source": [
    "##### Day 1\n",
    "###### Introduction to Machine Learning\n",
    "    Machine Learning is a subtopic of Artificial Intelligence(AI) that the machine have ability to learn from the data and improve from experience\n",
    "ML was introduced by `Arthur Lee Samuel`"
   ]
  },
  {
   "cell_type": "markdown",
   "metadata": {},
   "source": [
    "###### Types of Machine Learning\n",
    "1. Supervised Learning   ->Two types of algorithms -> Classification and regression\n",
    "2. Unsupervised Learning -> we can't predict the data\n",
    "3. Reinforcement Learning -> used in AI ->two types -> Positive reinforcement and negative reinforcement -> Example: Googlepay and phonepe Rewards"
   ]
  },
  {
   "cell_type": "markdown",
   "metadata": {},
   "source": [
    "######  Supervised Learning\n",
    "    We give input and Annotations to model and we get prediction in supervised learning\n",
    "    We use 2 types of algorithms in Supervised learning there are Classification and Regression\n",
    "\n",
    "1. __Classification__ : sorting items into categories\n",
    "2. __Regression__ : Identifying real values(dollars,weight,etc..)"
   ]
  },
  {
   "cell_type": "markdown",
   "metadata": {},
   "source": [
    "###### Unsupervised Learning\n",
    "    we give the Ml algorithm uncategorized unlabeled input data to see what patterns it finds,observe and learn from the patterns the machine identifies.\n",
    "    Clustering method is used in case of unsupervised learning\n",
    "    \n",
    "__Clustering__ : Identifying similarities n groups"
   ]
  },
  {
   "cell_type": "markdown",
   "metadata": {},
   "source": [
    " ###### Supervised Learning\n",
    " - __Classification__:\n",
    " 1. Diagnosis\n",
    " 2. Customer Retention\n",
    " 3. Identify Fraud Detection\n",
    " 4. Image Classification\n",
    " - __Regression__ :\n",
    " 1. Population Growth Predection\n",
    " 2. Advertising popularity predection\n",
    " 3. Weather forecasting\n",
    " 4. Marketing forecasting\n",
    " 5. Estimating life expectancy\n",
    " ###### Unsupervised Learning\n",
    " - __Dimensionality Reduction__:\n",
    " 1. Big data Visualisation\n",
    " 2. Feature Elicitation\n",
    " 3. Structure Discovery\n",
    " 4. Meaningful Compression\n",
    " - __Clustering__\n",
    " 1. Recommender systems\n",
    " 2. Targetted Marketing\n",
    " 3. Customer Segmentation\n",
    "###### Reinforcement Learning\n",
    " 1. Real-time Decisions\n",
    " 2. Robot Navigation\n",
    " 3. Learning Tasks\n",
    " 4. Game AI\n",
    " 5. Skill Acquisition"
   ]
  },
  {
   "cell_type": "markdown",
   "metadata": {},
   "source": [
    "###### Algorithms in ML\n",
    "1. Supervised \n",
    "    1. Regression\n",
    "        1. Linear\n",
    "        2. Polynomial\n",
    "    2. Decision tree\n",
    "    3. Random forest\n",
    "    4. Classification\n",
    "        1. KNN\n",
    "        2. Trees\n",
    "        3. Logistic Regression\n",
    "        4. Native-Bayes\n",
    "        5. SVM\n",
    "2. Unsupervised \n",
    "    1. Clustering\n",
    "        1. SVD\n",
    "        2. PCA\n",
    "        3. K-means\n",
    "    2. Association analysis\n",
    "        1. Aprion\n",
    "        2. FP-Growth\n",
    "    3. Hidden Markov Model"
   ]
  },
  {
   "cell_type": "markdown",
   "metadata": {},
   "source": [
    "###### Digit Classification\n",
    "    1. Collect images or Data\n",
    "    2. Extract features from the images\n",
    "    3. Apply statistcal ML algorithms\n",
    "    4. Evaluate the effectiveness of their system"
   ]
  },
  {
   "cell_type": "markdown",
   "metadata": {},
   "source": [
    "<img src=\"https://thumbor.forbes.com/thumbor/960x0/https%3A%2F%2Fspecials-images.forbesimg.com%2Fdam%2Fimageserve%2F966248982%2F960x0.jpg%3Ffit%3Dscale\" width=\"300px\">\n"
   ]
  },
  {
   "cell_type": "markdown",
   "metadata": {},
   "source": [
    "![image](https://thumbor.forbes.com/thumbor/960x0/https%3A%2F%2Fspecials-images.forbesimg.com%2Fdam%2Fimageserve%2F966248982%2F960x0.jpg%3Ffit%3Dscale)"
   ]
  },
  {
   "cell_type": "code",
   "execution_count": null,
   "metadata": {},
   "outputs": [],
   "source": []
  }
 ],
 "metadata": {
  "kernelspec": {
   "display_name": "Python 3",
   "language": "python",
   "name": "python3"
  },
  "language_info": {
   "codemirror_mode": {
    "name": "ipython",
    "version": 3
   },
   "file_extension": ".py",
   "mimetype": "text/x-python",
   "name": "python",
   "nbconvert_exporter": "python",
   "pygments_lexer": "ipython3",
   "version": "3.8.5"
  }
 },
 "nbformat": 4,
 "nbformat_minor": 4
}
